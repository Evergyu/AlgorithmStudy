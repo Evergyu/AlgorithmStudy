{
 "cells": [
  {
   "cell_type": "code",
   "execution_count": null,
   "id": "306f988a",
   "metadata": {},
   "outputs": [],
   "source": [
    "# 큰 수의 법칙 92p\n",
    "\n",
    "N, M, K,= map(int, input(\"\").split(\" \"))\n",
    "\n",
    "_list = list(map(int, input(\"\").split(\" \")))\n",
    "\n",
    "_list.sort(reverse=True)\n",
    "\n",
    "_list[0]\n",
    "\n",
    "result=0\n",
    "count=0\n",
    "for i in range(M):\n",
    "    count+=1\n",
    "    \n",
    "    if count%K==0:\n",
    "        result+=_list[1]\n",
    "    else:\n",
    "        result+=_list[0]\n",
    "\n",
    "result"
   ]
  },
  {
   "cell_type": "code",
   "execution_count": null,
   "id": "538de711",
   "metadata": {},
   "outputs": [
    {
     "name": "stdout",
     "output_type": "stream",
     "text": [
      "3\n"
     ]
    }
   ],
   "source": [
    "# 숫자 카드 게임 96p\n",
    "\n",
    "# 2차원 배열 선언방법 공부\n",
    "# max(), min() 사용법 익히기\n",
    "\n",
    "N, M = map(int, (input().split(\" \")))\n",
    "list_ = [[0] * M for _ in range(N)]\n",
    "\n",
    "for i in range(N):\n",
    "    list_[i] = list(map(int, (input().split(\" \"))))\n",
    "\n",
    "min=list_[0][0]\n",
    "for list__ in list_:\n",
    "    list__.sort()\n",
    "    min = list__[0]\n",
    "    if list__[0] < min:\n",
    "        min = list__[0]\n",
    "\n",
    "print(min)"
   ]
  },
  {
   "cell_type": "code",
   "execution_count": null,
   "id": "e3799548",
   "metadata": {},
   "outputs": [
    {
     "name": "stdout",
     "output_type": "stream",
     "text": [
      "6\n"
     ]
    }
   ],
   "source": [
    "# 1이 될 때까지 99p\n",
    "\n",
    "N, K = map(int, input().split(\" \"))\n",
    "\n",
    "count=0\n",
    "while 1:\n",
    "    if N%K==0:\n",
    "        N = N/K\n",
    "    else:\n",
    "        N=N-1\n",
    "    \n",
    "    count+=1\n",
    "\n",
    "    if N==1:\n",
    "        break\n",
    "\n",
    "print(count)\n"
   ]
  }
 ],
 "metadata": {
  "kernelspec": {
   "display_name": "base",
   "language": "python",
   "name": "python3"
  },
  "language_info": {
   "codemirror_mode": {
    "name": "ipython",
    "version": 3
   },
   "file_extension": ".py",
   "mimetype": "text/x-python",
   "name": "python",
   "nbconvert_exporter": "python",
   "pygments_lexer": "ipython3",
   "version": "3.12.7"
  }
 },
 "nbformat": 4,
 "nbformat_minor": 5
}
