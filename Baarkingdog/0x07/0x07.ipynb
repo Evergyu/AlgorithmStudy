{
 "cells": [
  {
   "cell_type": "code",
   "execution_count": null,
   "metadata": {},
   "outputs": [],
   "source": [
    "#10866\n",
    "from collections import deque\n",
    "import sys\n",
    "\n",
    "N=int(sys.stdin.readline().rstrip())\n",
    "deq=deque()\n",
    "for _ in range(N):\n",
    "    command=list(sys.stdin.readline().rstrip().split(\" \"))\n",
    "\n",
    "    if command[0]==\"push_front\":\n",
    "        deq.appendleft(int(command[1]))\n",
    "    elif command[0]==\"push_back\":\n",
    "        deq.append(int(command[1]))\n",
    "    elif command[0]==\"pop_front\":\n",
    "        if deq:\n",
    "            print(deq.popleft())\n",
    "        else:\n",
    "            print(-1)\n",
    "    elif command[0]==\"pop_back\":\n",
    "        if deq:\n",
    "            print(deq.pop())\n",
    "        else:\n",
    "            print(-1)\n",
    "    elif command[0]==\"size\":\n",
    "        print(len(deq))\n",
    "    elif command[0]==\"empty\":\n",
    "        if deq:\n",
    "            print(0)\n",
    "        else:\n",
    "            print(1)\n",
    "    elif command[0]==\"front\":\n",
    "        if deq:\n",
    "            temp=deq.popleft()\n",
    "            print(temp)\n",
    "            deq.appendleft(temp)\n",
    "        else:\n",
    "            print(-1)\n",
    "    elif command[0]==\"back\":\n",
    "        if deq:\n",
    "            temp=deq.pop()\n",
    "            print(temp)\n",
    "            deq.append(temp)\n",
    "        else:\n",
    "            print(-1)\n",
    "    "
   ]
  },
  {
   "cell_type": "code",
   "execution_count": null,
   "metadata": {},
   "outputs": [],
   "source": [
    "#1021 // 이거랑 .index 잘쓰기\n",
    "\n"
   ]
  },
  {
   "cell_type": "code",
   "execution_count": null,
   "metadata": {},
   "outputs": [],
   "source": []
  },
  {
   "cell_type": "code",
   "execution_count": null,
   "metadata": {},
   "outputs": [],
   "source": []
  },
  {
   "cell_type": "code",
   "execution_count": null,
   "metadata": {},
   "outputs": [],
   "source": []
  }
 ],
 "metadata": {
  "language_info": {
   "name": "python"
  }
 },
 "nbformat": 4,
 "nbformat_minor": 2
}
