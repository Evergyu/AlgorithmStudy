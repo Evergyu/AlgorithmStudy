{
 "cells": [
  {
   "cell_type": "code",
   "execution_count": null,
   "metadata": {},
   "outputs": [],
   "source": [
    "# 1406\n",
    "# 스택써도됨. 접근법은 맞는데 함수를몰루\n",
    "\n",
    "\n",
    "string=input()\n",
    "M=int(input())\n",
    "head=len(string)-1\n",
    "for i in range(M):\n",
    "    input_=list(input().split(\" \"))\n",
    "    print(f\"head:{head},String:{string}\")\n",
    "    if len(input_) > 1 and input_[0]==\"P\":\n",
    "        string=string+input_[-1]    \n",
    "        for i in range(head,len(string)-1,1):\n",
    "            string=string.replace(string[i+1],string[i])\n",
    "            print(i+1,i, string)\n",
    "        string=string.replace(string[head+1],input_[1])\n",
    "        # head+=1\n",
    "    else:\n",
    "        if input_[0]==\"L\":\n",
    "            if head==0:\n",
    "                pass\n",
    "            else:\n",
    "                head-=1\n",
    "        elif input_[0]==\"D\":\n",
    "            if head==len(string)-1:\n",
    "                pass\n",
    "            else:\n",
    "                head+=1\n",
    "        elif input_[0]==\"B\":\n",
    "            if head==0:\n",
    "                pass\n",
    "            else:\n",
    "                for i in range(head,len(string)):\n",
    "                    string=string.replace(string[i-1],string[i])\n",
    "                string.pop(-1)\n",
    "\n",
    "    print(\"string:\",string)\n",
    "    print()"
   ]
  },
  {
   "cell_type": "code",
   "execution_count": null,
   "metadata": {},
   "outputs": [],
   "source": [
    "#5397 다시\n",
    "\n",
    "case_=int(input())\n",
    "\n",
    "for i in range(case_):\n",
    "    list_=[]\n",
    "    index_=0\n",
    "    input_=input()\n",
    "    \n",
    "    for item in input_:\n",
    "        if item == \"<\":\n",
    "            if index_<=0:\n",
    "                index_=0\n",
    "            else:\n",
    "                index_-=1\n",
    "        elif item ==\">\":\n",
    "            if index_==len(list_):\n",
    "                index_=len(list_)\n",
    "            else:\n",
    "                index_+=1\n",
    "        elif item ==\"-\":\n",
    "            if index_ > 0:\n",
    "                del list_[index_-1]\n",
    "                index_-=1\n",
    "        else:\n",
    "            list_.insert(index_,item)\n",
    "            index_+=1\n",
    "        # print(index_,list_)\n",
    "        \n",
    "    for letter in list_:\n",
    "        print(letter, end=\"\")\n",
    "    print()"
   ]
  },
  {
   "cell_type": "code",
   "execution_count": null,
   "metadata": {},
   "outputs": [
    {
     "name": "stdout",
     "output_type": "stream",
     "text": [
      "<3, 6, 2, 7, 5, 1, 4>"
     ]
    }
   ],
   "source": [
    "# 1158\n",
    "\n",
    "N, K = map(int,input().split(\" \"))\n",
    "\n",
    "left_=[]\n",
    "right_=[i for i in range(1,N+1)]\n",
    "\n",
    "index_=0\n",
    "for i in range(1,N):\n",
    "    index_+=K-1\n",
    "    if index_>=len(right_):\n",
    "        index_=index_%len(right_)\n",
    "\n",
    "    left_.append(right_.pop(index_))\n",
    "\n",
    "left_.append(right_.pop(0))\n",
    "\n",
    "print(\"<\",end=\"\")\n",
    "for item in left_[:-1]:\n",
    "    print(item,end=\", \")\n",
    "\n",
    "print(left_[-1],end=\">\")"
   ]
  },
  {
   "cell_type": "code",
   "execution_count": null,
   "metadata": {},
   "outputs": [],
   "source": []
  },
  {
   "cell_type": "code",
   "execution_count": null,
   "metadata": {},
   "outputs": [],
   "source": []
  },
  {
   "cell_type": "code",
   "execution_count": null,
   "metadata": {},
   "outputs": [],
   "source": []
  }
 ],
 "metadata": {
  "kernelspec": {
   "display_name": "base",
   "language": "python",
   "name": "python3"
  },
  "language_info": {
   "codemirror_mode": {
    "name": "ipython",
    "version": 3
   },
   "file_extension": ".py",
   "mimetype": "text/x-python",
   "name": "python",
   "nbconvert_exporter": "python",
   "pygments_lexer": "ipython3",
   "version": "3.12.7"
  }
 },
 "nbformat": 4,
 "nbformat_minor": 2
}
