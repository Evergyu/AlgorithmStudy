{
 "cells": [
  {
   "cell_type": "code",
   "execution_count": null,
   "metadata": {},
   "outputs": [],
   "source": [
    "#10808\n",
    "# ascii는 ord\n",
    "\n",
    "string_=input()\n",
    "list_=[0 for item in range(26)]\n",
    "\n",
    "for item in string_:\n",
    "    list_[ord(item)-ord('a')]+=1\n",
    "\n",
    "for item in list_:\n",
    "    print(item, end=' ')"
   ]
  },
  {
   "cell_type": "code",
   "execution_count": null,
   "metadata": {},
   "outputs": [],
   "source": [
    "mul=1\n",
    "for i in range(3):\n",
    "    mul*=int(input())\n",
    "\n",
    "list_=[0 for i in range(10)]\n",
    "\n",
    "for item in str(mul):\n",
    "    list_[int(item)]+=1\n",
    "\n",
    "for item in list_:\n",
    "    print(item)\n"
   ]
  },
  {
   "cell_type": "code",
   "execution_count": null,
   "metadata": {},
   "outputs": [],
   "source": [
    "# 1475\n",
    "num=input()\n",
    "\n",
    "list_=[0 for item in range(10)]\n",
    "\n",
    "for item in num:\n",
    "    list_[int(item)]+=1\n",
    "\n",
    "list_[6]=int((list_[6]+list_[9]-1)/2)+1\n",
    "list_[9]=0\n",
    "\n",
    "print(max(list_))\n"
   ]
  },
  {
   "cell_type": "code",
   "execution_count": null,
   "metadata": {},
   "outputs": [],
   "source": [
    "# 3273\n",
    "n=int(input())\n",
    "list_=list(map(int, input().split(\" \")))[:n]\n",
    "num=int(input())\n",
    "\n",
    "list__=[0 for i in range(num+1)]\n",
    "\n",
    "count=0\n",
    "for i in list_:\n",
    "    if i > num:\n",
    "        continue\n",
    "    else:\n",
    "        list__[i]=1\n",
    "        if list__[num-i]==1:\n",
    "            count+=1\n",
    "        \n",
    "        if i==num-i:\n",
    "            count-=1\n",
    "\n",
    "print(count)\n"
   ]
  },
  {
   "cell_type": "code",
   "execution_count": null,
   "metadata": {},
   "outputs": [
    {
     "name": "stdout",
     "output_type": "stream",
     "text": [
      "2\n"
     ]
    }
   ],
   "source": [
    "# 10807\n",
    "\n",
    "n=int(input())\n",
    "list_=list(map(int,input().split(\" \")))[:n]\n",
    "v=int(input())\n",
    "\n",
    "list__=[0 for i in range(300)]\n",
    "\n",
    "for item in list_:\n",
    "    list__[item+100]+=1\n",
    "\n",
    "print(list__[v+100])\n"
   ]
  },
  {
   "cell_type": "code",
   "execution_count": 42,
   "metadata": {},
   "outputs": [
    {
     "name": "stdout",
     "output_type": "stream",
     "text": [
      "3\n"
     ]
    }
   ],
   "source": [
    "# 13300\n",
    "\n",
    "N, K=map(int,input().split(\" \"))\n",
    "\n",
    "list_G=[0 for i in range(6)]\n",
    "list_B=[0 for i in range(6)]\n",
    "\n",
    "for item in range(N):\n",
    "    gender, grade = map(int,input().split(\" \"))\n",
    "    if gender==0:\n",
    "        list_G[grade-1]+=1\n",
    "    else:\n",
    "        list_B[grade-1]+=1\n",
    "\n",
    "sum=0\n",
    "for items in list_G:\n",
    "    sum+=int(items/K)\n",
    "    if items%K!=0:\n",
    "        sum+=1\n",
    "\n",
    "for items in list_B:\n",
    "    sum+=int(items/K)\n",
    "    if items%K!=0:\n",
    "        sum+=1\n",
    "\n",
    "print(sum)"
   ]
  },
  {
   "cell_type": "code",
   "execution_count": null,
   "metadata": {},
   "outputs": [
    {
     "name": "stdout",
     "output_type": "stream",
     "text": [
      "Impossible\n",
      "Possible\n",
      "Impossible\n",
      "Impossible\n"
     ]
    }
   ],
   "source": [
    "# 11328\n",
    "# 다시풀기\n",
    "n=int(input())\n",
    "\n",
    "for i in range(n):\n",
    "    str_a, str_b = input().split(\" \")\n",
    "\n",
    "    if len(str_a)!=len(str_b):\n",
    "        print(\"Impossible\")\n",
    "    else:\n",
    "        count=1\n",
    "        list_a=[0 for j in range(100)]    \n",
    "        list_b=[0 for j in range(100)]\n",
    "        for item_a in str_a:\n",
    "            list_a[ord(item_a)-ord('a')]=+1\n",
    "\n",
    "        for item_b in str_b:\n",
    "            list_b[ord(item_b)-ord('a')]=+1\n",
    "\n",
    "        for i, item in enumerate(list_b):\n",
    "            if list_a[i]!=list_b[i]:\n",
    "                count=0\n",
    "                print(\"Impossible\")\n",
    "                break\n",
    "            \n",
    "        if count==1:\n",
    "            print(\"Possible\")\n"
   ]
  },
  {
   "cell_type": "code",
   "execution_count": null,
   "metadata": {},
   "outputs": [
    {
     "name": "stdout",
     "output_type": "stream",
     "text": [
      "[1, 1, 1, 0, 0, 0, 0, 0, 0, 0, 0, 0, 0, 0, 0, 0, 0, 0, 0, 0, 0, 0, 0, 0, 0, 0, 0, 0, 0, 0]\n",
      "[1, 1, 0, 0, 0, 0, 0, 0, 0, 0, 0, 0, 0, 0, 0, 0, 0, 0, 0, 0, 0, 0, 0, 0, 0, 0, 0, 0, 0, 0]\n",
      "1\n"
     ]
    }
   ],
   "source": [
    "str_a=input()\n",
    "str_b=input()\n",
    "\n",
    "list_a=[0 for i in range(30)]\n",
    "list_b=[0 for i in range(30)]\n",
    "for A in sorted(str_a):\n",
    "    list_a[ord(A)-ord('a')]+=1\n",
    "for B in sorted(str_b):\n",
    "    list_b[ord(B)-ord('a')]+=1\n",
    "count=0\n",
    "for i in range(len(list_a)):\n",
    "    count+=abs(list_a[i]-list_b[i])\n",
    "\n",
    "print(count)\n"
   ]
  }
 ],
 "metadata": {
  "kernelspec": {
   "display_name": "base",
   "language": "python",
   "name": "python3"
  },
  "language_info": {
   "codemirror_mode": {
    "name": "ipython",
    "version": 3
   },
   "file_extension": ".py",
   "mimetype": "text/x-python",
   "name": "python",
   "nbconvert_exporter": "python",
   "pygments_lexer": "ipython3",
   "version": "3.12.7"
  }
 },
 "nbformat": 4,
 "nbformat_minor": 2
}
