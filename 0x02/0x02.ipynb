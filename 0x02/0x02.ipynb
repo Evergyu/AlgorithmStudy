{
 "cells": [
  {
   "cell_type": "code",
   "execution_count": null,
   "metadata": {},
   "outputs": [],
   "source": [
    "# 10871\n",
    "\n",
    "def solution():\n",
    "\n",
    "    num_list=[]\n",
    "    N, X=map(int, input().split(' '))\n",
    "    num_list=map(int, input().split(' '))\n",
    "\n",
    "    for items in num_list:\n",
    "        if items < X:\n",
    "            print(items, end=' ')\n",
    "\n",
    "\n",
    "solution()\n"
   ]
  },
  {
   "cell_type": "code",
   "execution_count": null,
   "metadata": {},
   "outputs": [],
   "source": [
    "# 1000\n",
    "def solution():\n",
    "    a,b=map(int,input().split(\" \"))\n",
    "    print(a+b)\n",
    "solution()"
   ]
  },
  {
   "cell_type": "code",
   "execution_count": null,
   "metadata": {},
   "outputs": [],
   "source": [
    "# 2557\n",
    "\n",
    "print(\"Hello World!\")\n",
    "\n"
   ]
  },
  {
   "cell_type": "code",
   "execution_count": null,
   "metadata": {},
   "outputs": [],
   "source": [
    "# 10171\n",
    "\n",
    "print(\"\\\\    /\\\\ \")\n",
    "print(\" )  ( ') \")\n",
    "print(\"(  /  ) \")\n",
    "print(' \\\\(__)| ')"
   ]
  },
  {
   "cell_type": "code",
   "execution_count": null,
   "metadata": {},
   "outputs": [],
   "source": [
    "# 10869\n",
    "\n",
    "a,b = map(int, input().split(\" \"))\n",
    "print(a+b)\n",
    "print(a-b)\n",
    "print(a*b)\n",
    "print(int(a/b))\n",
    "print(a%b)\n",
    "\n"
   ]
  },
  {
   "cell_type": "code",
   "execution_count": null,
   "metadata": {},
   "outputs": [],
   "source": [
    "# 9498\n",
    "\n",
    "score=int(input())\n",
    "\n",
    "if score >= 90 and score < 101:\n",
    "    print(\"A\")\n",
    "elif score >= 80 and score < 90:\n",
    "    print(\"B\")\n",
    "elif score >= 70 and score < 80:\n",
    "    print(\"C\")\n",
    "elif score >= 60 and score < 70:\n",
    "    print(\"D\")\n",
    "else:\n",
    "    print(\"F\")"
   ]
  },
  {
   "cell_type": "code",
   "execution_count": null,
   "metadata": {},
   "outputs": [],
   "source": [
    "# 2752\n",
    "\n",
    "num_list=[]\n",
    "num_list=list(map(int, input().split(\" \")))\n",
    "num_list.sort()\n",
    "\n",
    "for items in num_list:\n",
    "    print(items, end=' ')\n",
    "\n"
   ]
  },
  {
   "cell_type": "code",
   "execution_count": null,
   "metadata": {},
   "outputs": [],
   "source": [
    "# 2753\n",
    "\n",
    "a=int(input())\n",
    "if a%4==0 and a%100!=0 or a%400==0:\n",
    "    print(1)\n",
    "else:\n",
    "    print(0)\n"
   ]
  },
  {
   "cell_type": "code",
   "execution_count": null,
   "metadata": {},
   "outputs": [],
   "source": [
    "# 2480\n",
    "# max(list) 사용!!\n",
    "\n",
    "a,b,c=map(int, input().split(\" \"))\n",
    "price=0\n",
    "\n",
    "if a==b and a==c and b==c:\n",
    "    price=10000+a*1000\n",
    "elif a!=b and a!=c and b!=c:\n",
    "    temp=[a,b,c]\n",
    "    temp.sort()\n",
    "    price=temp[-1]*100\n",
    "else:\n",
    "    if a==b:\n",
    "        price=1000+100*a\n",
    "    elif a==c:\n",
    "        price=1000+100*a\n",
    "    if c==b:\n",
    "        price=1000+100*c\n",
    "                \n",
    "\n",
    "print(price)"
   ]
  },
  {
   "cell_type": "code",
   "execution_count": null,
   "metadata": {},
   "outputs": [],
   "source": [
    "# 2490\n",
    "# A=list.count(0) 쓰십쇼!\n",
    "\n",
    "def function(list_A):\n",
    "    list_A.sort()\n",
    "    \n",
    "    A=0\n",
    "    B=0\n",
    "\n",
    "    for items in list_A:\n",
    "        if items==0:\n",
    "            A+=1\n",
    "        else:\n",
    "            B+=1\n",
    "\n",
    "    if A==1 and B==3:\n",
    "        print(\"A\")\n",
    "    elif A==2 and B==2:\n",
    "        print(\"B\")\n",
    "    elif A==3 and B==1:\n",
    "        print(\"C\")\n",
    "    elif A==4 and B==0:\n",
    "        print(\"D\")\n",
    "    else:\n",
    "        print(\"E\")\n",
    "\n",
    "for i in range(3):\n",
    "    A=list(map(int,input().split(\" \")))\n",
    "    function(A)\n",
    "\n"
   ]
  },
  {
   "cell_type": "code",
   "execution_count": null,
   "metadata": {},
   "outputs": [],
   "source": [
    "# 2576\n",
    "\n",
    "list=[]\n",
    "min=9999\n",
    "sum=0\n",
    "status=1\n",
    "for i in range(7):\n",
    "    A=int(input())\n",
    "    if A%2 != 0:\n",
    "        status=0\n",
    "        sum+=A\n",
    "        if A < min:\n",
    "            min=A\n",
    "\n",
    "if status==0:\n",
    "    print(sum)\n",
    "    print(min)\n",
    "else:\n",
    "    print(-1)"
   ]
  },
  {
   "cell_type": "code",
   "execution_count": null,
   "metadata": {},
   "outputs": [],
   "source": [
    "# 2587\n",
    "\n",
    "list=[]\n",
    "sum=0\n",
    "for i in range(5):\n",
    "    item=int(input())\n",
    "    list.append(item)\n",
    "    sum+=item\n",
    "    list.sort()\n",
    "\n",
    "print(int(sum/5))\n",
    "print(list[2])\n"
   ]
  },
  {
   "cell_type": "code",
   "execution_count": null,
   "metadata": {},
   "outputs": [],
   "source": [
    "# 2309 다시풀기\n",
    "\n",
    "# sorted 사용\n",
    "# itertools.permutations (순열), itertools.combinations (조합)\n",
    "# itertools.product (두개 이상의 조합)\n",
    "\n",
    "from itertools import permutations\n",
    "\n",
    "list=[]\n",
    "for i in range(9):\n",
    "    list.append(int(input()))\n",
    "\n",
    "for items in permutations(list,7):\n",
    "    if sum(items)==100:\n",
    "        for j in sorted((items)):\n",
    "            print(j)\n",
    "        break"
   ]
  },
  {
   "cell_type": "code",
   "execution_count": null,
   "metadata": {},
   "outputs": [],
   "source": [
    "# 10093\n",
    "\n",
    "a,b=map(int,input().split(\" \"))\n",
    "\n",
    "if a==b:\n",
    "    print(0)    \n",
    "\n",
    "if a>b:\n",
    "    print(a-b-1)\n",
    "    for items in range(b+1,a,1):\n",
    "        print(items, end=\" \")\n",
    "\n",
    "if a<b:\n",
    "    print(b-a-1)\n",
    "    for items in range(a+1,b,1):\n",
    "        print(items, end=\" \")"
   ]
  },
  {
   "cell_type": "code",
   "execution_count": null,
   "metadata": {},
   "outputs": [],
   "source": [
    "# 1267\n",
    "# 리스트에 숫자 값 넣기!!\n",
    "\n",
    "\n",
    "n=int(input())\n",
    "list2=list(map(int,input().split(\" \")))\n",
    "list2=list2[:n]\n",
    "\n",
    "# print(list2)\n",
    "\n",
    "Y=0\n",
    "M=0\n",
    "for items in list2:\n",
    "    Y+=int(items / 30)* 10 + 10\n",
    "    M+=int(items / 60)* 15 + 15\n",
    "\n",
    "\n",
    "if Y<M:\n",
    "    print(f\"Y {int(Y)}\")\n",
    "elif Y>M:\n",
    "    print(f\"M {int(M)}\")\n",
    "else:\n",
    "    print(f\"Y M {int((Y))}\")\n",
    "\n",
    "\n"
   ]
  },
  {
   "cell_type": "code",
   "execution_count": null,
   "metadata": {},
   "outputs": [],
   "source": [
    "# 10804\n",
    "# sort 말고 sorted, reversed 쓰기!\n",
    "\n",
    "\n",
    "list_=sorted(list(range(1,21)))\n",
    "def sort_array(list__, a, b):\n",
    "    \n",
    "    target=list__[a-1:b]\n",
    "    target=reversed(target)\n",
    "    list__[a-1:b]=target   \n",
    "\n",
    "    return list__\n",
    "\n",
    "for i in range(10):\n",
    "    a,b=map(int,input().split(\" \"))\n",
    "    \n",
    "    list_ = sort_array(list_,a,b)\n",
    "\n",
    "for items in list_:\n",
    "    print(items, end=\" \")\n",
    "\n"
   ]
  },
  {
   "cell_type": "code",
   "execution_count": null,
   "metadata": {},
   "outputs": [],
   "source": [
    "# 15552\n",
    "# 주피터에서는 sys.stdin.readline() 안됨.\n",
    "\n",
    "\n",
    "import sys\n",
    "N=int(sys.stdin.readline())\n",
    "\n",
    "for i in range(N):\n",
    "    A,B=map(int,input().split(\" \"))\n",
    "\n",
    "    print(A+B)\n"
   ]
  },
  {
   "cell_type": "code",
   "execution_count": null,
   "metadata": {},
   "outputs": [],
   "source": [
    "# 2438\n",
    "\n",
    "N=int(input())\n",
    "\n",
    "for i in range(1,N+1):\n",
    "    print(\"*\" * i)\n"
   ]
  },
  {
   "cell_type": "code",
   "execution_count": null,
   "metadata": {},
   "outputs": [],
   "source": [
    "# 2439\n",
    "\n",
    "N=int(input())\n",
    "\n",
    "for i in range(N-1,0,-1):\n",
    "    print(\" \"*i,end=\"\")\n",
    "    print(\"*\"*(N-i))\n",
    "print(\"*\"*N)\n"
   ]
  },
  {
   "cell_type": "code",
   "execution_count": null,
   "metadata": {},
   "outputs": [],
   "source": [
    "# 2440\n",
    "\n",
    "n=int(input())\n",
    "\n",
    "for i in range(n,0,-1):\n",
    "    print(\"*\"*i)\n"
   ]
  },
  {
   "cell_type": "code",
   "execution_count": null,
   "metadata": {},
   "outputs": [],
   "source": [
    "# 2441\n",
    "\n",
    "n=int(input())\n",
    "\n",
    "for i in range(n,0,-1):\n",
    "    print(\" \"*(n-i)+\"*\"*i)\n",
    "\n",
    "\n",
    "\n"
   ]
  },
  {
   "cell_type": "code",
   "execution_count": null,
   "metadata": {},
   "outputs": [],
   "source": [
    "# 2442\n",
    "\n",
    "n=int(input())\n",
    "\n",
    "for i in range(n,0,-1):\n",
    "    print(\" \"*(i-1) + \"*\"*(n-i) + \"*\" + \"*\"*(n-i))\n",
    "\n",
    "\n",
    "\n"
   ]
  },
  {
   "cell_type": "code",
   "execution_count": null,
   "metadata": {},
   "outputs": [],
   "source": [
    "# 2443\n",
    "\n",
    "n=int(input())\n",
    "\n",
    "for i in range(n,0,-1):\n",
    "    print(\" \"*(n-i) + \"*\"* (i-1) + \"*\" + \"*\"*(i-1))\n",
    "\n",
    "\n"
   ]
  },
  {
   "cell_type": "code",
   "execution_count": null,
   "metadata": {},
   "outputs": [],
   "source": [
    "# 2444\n",
    "\n",
    "n=int(input())\n",
    "\n",
    "for i in range(n,0,-1):\n",
    "    print(\" \" * (i-1) + \"*\" * (n-i) + \"*\" + \"*\" * (n-i))\n",
    "for i in range(n-1,0,-1):\n",
    "    print(\" \" * (n-i) + \"*\" * (i-1) + \"*\" + \"*\" * (i-1))\n",
    "\n",
    "\n",
    "\n"
   ]
  },
  {
   "cell_type": "code",
   "execution_count": null,
   "metadata": {},
   "outputs": [],
   "source": [
    "2445\n",
    "\n",
    "n=int(input())\n",
    "\n",
    "for i in range(1,n+1,1):\n",
    "    print(\"*\" * (i) + \" \" * (n-i) + \" \" * (n-i) + \"*\" * (i) )\n",
    "for i in range(n, 1, -1):\n",
    "    print(\"*\" * (i-1) + \" \" * (n-i+1) + \" \" * (n-i+1) + \"*\" * (i-1) )\n",
    "\n"
   ]
  },
  {
   "cell_type": "code",
   "execution_count": null,
   "metadata": {},
   "outputs": [],
   "source": [
    "2446\n",
    "\n",
    "n=int(input())\n",
    "\n",
    "for i in range(1,n+1,1):\n",
    "    print(\" \" * (i-1) + \"*\" * (n-i) + \"*\" +\"*\" * (n-i) )\n",
    "for i in range(n, 1, -1):\n",
    "    print(\" \" * (i-2) + \"*\" * (n-i+1) + \"*\" + \"*\" * (n-i+1) )\n",
    "\n"
   ]
  },
  {
   "cell_type": "code",
   "execution_count": null,
   "metadata": {},
   "outputs": [],
   "source": [
    "2562\n",
    "\n",
    "list_ = []\n",
    "\n",
    "for i in range(9):\n",
    "    list_.append(int(input()))\n",
    "\n",
    "max_ = max(list_)\n",
    "print(max_)\n",
    "\n",
    "for i, items in enumerate(list_):\n",
    "    if items==max_:\n",
    "        print(i+1)\n",
    "\n",
    "\n"
   ]
  },
  {
   "cell_type": "code",
   "execution_count": null,
   "metadata": {},
   "outputs": [],
   "source": []
  }
 ],
 "metadata": {
  "kernelspec": {
   "display_name": "base",
   "language": "python",
   "name": "python3"
  },
  "language_info": {
   "codemirror_mode": {
    "name": "ipython",
    "version": 3
   },
   "file_extension": ".py",
   "mimetype": "text/x-python",
   "name": "python",
   "nbconvert_exporter": "python",
   "pygments_lexer": "ipython3",
   "version": "3.12.7"
  }
 },
 "nbformat": 4,
 "nbformat_minor": 2
}
